{
 "cells": [
  {
   "cell_type": "markdown",
   "metadata": {},
   "source": [
    "本项目通过抓取武汉链家二手房在售信息进行保存并进行可视化分析，利用requests和BeautifulSoup库进行抓取解析，对于得到的数据利用pandas进行整理，后期将会利用matplotlib，seaborn进行可视化分析并总结。"
   ]
  },
  {
   "cell_type": "code",
   "execution_count": 10,
   "metadata": {},
   "outputs": [],
   "source": [
    "import requests\n",
    "from bs4 import BeautifulSoup\n",
    "import pandas as pd\n",
    "import time\n",
    "import csv\n",
    "import re\n",
    "import sys"
   ]
  },
  {
   "cell_type": "code",
   "execution_count": 2,
   "metadata": {},
   "outputs": [],
   "source": [
    "headers = {'User-Agent':'Mozilla/5.0 (Windows NT 10.0; WOW64) AppleWebKit/537.36 (KHTML, like Gecko) Chrome/55.0.2883.87 Safari/537.36'}\n",
    "area_list = ['jiangan','jianghan','qiaokou','dongxihu','wuchang','qingshan','hongshan','hanyang','donghugaoxin','jiangxia','caidian','huangbei','xinzhou','zhuankoukaifaqu']\n",
    "area_cnlist  = ['江岸','江汉','硚口','东西湖','武昌','青山','洪山','汉阳','东湖高新','江夏','蔡甸','黄陂','新洲','沌口开发区']"
   ]
  },
  {
   "cell_type": "code",
   "execution_count": 15,
   "metadata": {},
   "outputs": [],
   "source": [
    "#获取解析页面\n",
    "def get_page(url,num):\n",
    "    try:\n",
    "        r = requests.get(url,headers=headers)\n",
    "        r.raise_for_status()\n",
    "        r.encoding = r.apparent_encoding\n",
    "        #print('--------第%d页抓取成功--------'%num) \n",
    "        return r.text\n",
    "    except:\n",
    "        return None\n",
    "\n",
    "#解析页面\n",
    "def parse_page(content,area_cn):\n",
    "    soup = BeautifulSoup(content,'lxml')\n",
    "    \n",
    "    pattern = re.compile('[0-9]{4}')  #利用正则匹配年份\n",
    "    years = [i.get_text().strip().split('-')[0] for i in soup.select('div[class=\"positionInfo\"]')]\n",
    "    years_list = []\n",
    "    for year in years:\n",
    "        y = pattern.search(year)\n",
    "        if y == None:\n",
    "            years_list.append('none')\n",
    "        else:\n",
    "            years_list.append(y.group())\n",
    "    pattern1 = re.compile('\"totalPage\":(.*?),\".*?')\n",
    "    last_page = re.findall(pattern1,str(soup))\n",
    "    #查找所需二手房信息，并将查找到的数据放到字典中       \n",
    "    item = {}\n",
    "    item['Renovation'] = [i.get_text().strip().split('|')[4] for i in soup.select('div[class=\"houseInfo\"]')] #改造情况\n",
    "    item['Garden'] = [i.get_text().strip().split('|')[0] for i in soup.select('div[class=\"houseInfo\"]')]    #  房名\n",
    "    item['Layout'] = [i.get_text().strip().split('|')[1] for i in soup.select('div[class=\"houseInfo\"]')]    #户型\n",
    "    item['Size'] = [i.get_text().strip().split('|')[2] for i in soup.select('div[class=\"houseInfo\"]')]      #大小\n",
    "    item['Direction'] = [i.get_text().strip().split('|')[3] for i in soup.select('div[class=\"houseInfo\"]')] #朝向\n",
    "    item['Elevator'] = [i.get_text().strip().split('|')[-1] if len(i.get_text().strip().split('|'))==6 else 'none' for i in soup.select('div[class=\"houseInfo\"]')]#电梯情况\n",
    "    item['Year'] = years_list                                                                               #二手房年份\n",
    "    item['Distric'] = [i.get_text().strip().split('-')[1] for i in soup.select('div[class=\"positionInfo\"]')] # 小区\n",
    "    item['Floor'] = [i.get_text().strip().split('-')[0][0:3] for i in soup.select('div[class=\"positionInfo\"]')] #楼层\n",
    "    item['Price'] = [i.get_text().strip() for i in soup.select('div[class=\"totalPrice\"] span')]                 #价格\n",
    "    item['house_unit_price'] = [i.get_text().strip() for i in soup.select('div[class=\"unitPrice\"] span')]#均价\n",
    "    item['Region'] = area_cn\n",
    "    return pd.DataFrame(item)\n",
    "    \n",
    "                \n",
    "               \n",
    "    "
   ]
  },
  {
   "cell_type": "code",
   "execution_count": 16,
   "metadata": {},
   "outputs": [],
   "source": [
    "def view_bar(num, total):  #显示进度条\n",
    "    rate = num / total\n",
    "    rate_num = int(rate * 100)\n",
    "    r = '\\r[%s%s]%d%%' % (\"=\"*num, \" \"*(100-num), rate_num, )\n",
    "    sys.stdout.write(r)\n",
    "    sys.stdout.flush()"
   ]
  },
  {
   "cell_type": "code",
   "execution_count": 21,
   "metadata": {},
   "outputs": [],
   "source": [
    "def main():\n",
    "    filename = 'wuhanlianjia.csv'\n",
    "    house_data = []\n",
    "    data = pd.DataFrame()\n",
    "    for area,area_cn in zip(area_list,area_cnlist):\n",
    "        url = \"https://wh.lianjia.com/ershoufang/%s\" % area\n",
    "        for  page_ing in range(1,101): \n",
    "            url_ing = url + \"/pg\" + str(page_ing) + '/'\n",
    "            getpage = get_page(url_ing,page_ing)\n",
    "            if len(getpage) > 0:\n",
    "                house_info = parse_page(getpage,area_cn)\n",
    "                house_data.append(house_info)   \n",
    "            time.sleep(2)\n",
    "            view_bar(page_ing,100)\n",
    "        data = pd.concat(house_data, ignore_index = True)\n",
    "        data.to_csv(filename,encoding = 'gbk', index = False)\n",
    "        print('完毕')\n",
    "    \n",
    "        \n",
    "         "
   ]
  },
  {
   "cell_type": "code",
   "execution_count": null,
   "metadata": {},
   "outputs": [],
   "source": [
    "main()"
   ]
  },
  {
   "cell_type": "code",
   "execution_count": 13,
   "metadata": {},
   "outputs": [
    {
     "data": {
      "text/html": [
       "<div>\n",
       "<style scoped>\n",
       "    .dataframe tbody tr th:only-of-type {\n",
       "        vertical-align: middle;\n",
       "    }\n",
       "\n",
       "    .dataframe tbody tr th {\n",
       "        vertical-align: top;\n",
       "    }\n",
       "\n",
       "    .dataframe thead th {\n",
       "        text-align: right;\n",
       "    }\n",
       "</style>\n",
       "<table border=\"1\" class=\"dataframe\">\n",
       "  <thead>\n",
       "    <tr style=\"text-align: right;\">\n",
       "      <th></th>\n",
       "      <th>Renovation</th>\n",
       "      <th>Garden</th>\n",
       "      <th>Layout</th>\n",
       "      <th>Size</th>\n",
       "      <th>Direction</th>\n",
       "      <th>Elevator</th>\n",
       "      <th>Year</th>\n",
       "      <th>Distric</th>\n",
       "      <th>Floor</th>\n",
       "      <th>Price</th>\n",
       "      <th>house_unit_price</th>\n",
       "    </tr>\n",
       "  </thead>\n",
       "  <tbody>\n",
       "    <tr>\n",
       "      <th>0</th>\n",
       "      <td>精装</td>\n",
       "      <td>星海虹城一期</td>\n",
       "      <td>4室2厅</td>\n",
       "      <td>144.33平米</td>\n",
       "      <td>东 南 西</td>\n",
       "      <td>有电梯</td>\n",
       "      <td>2006</td>\n",
       "      <td>楚河汉街</td>\n",
       "      <td>低楼层</td>\n",
       "      <td>440.0</td>\n",
       "      <td>单价30486元/平米</td>\n",
       "    </tr>\n",
       "    <tr>\n",
       "      <th>1</th>\n",
       "      <td>其他</td>\n",
       "      <td>保利中央公馆</td>\n",
       "      <td>3室2厅</td>\n",
       "      <td>116.83平米</td>\n",
       "      <td>南 北</td>\n",
       "      <td>有电梯</td>\n",
       "      <td>2011</td>\n",
       "      <td>新南湖</td>\n",
       "      <td>中楼层</td>\n",
       "      <td>265.0</td>\n",
       "      <td>单价22683元/平米</td>\n",
       "    </tr>\n",
       "    <tr>\n",
       "      <th>2</th>\n",
       "      <td>其他</td>\n",
       "      <td>金色雅园金源苑</td>\n",
       "      <td>2室2厅</td>\n",
       "      <td>102.74平米</td>\n",
       "      <td>南</td>\n",
       "      <td>无电梯</td>\n",
       "      <td>2002</td>\n",
       "      <td>长港路</td>\n",
       "      <td>中楼层</td>\n",
       "      <td>175.0</td>\n",
       "      <td>单价17034元/平米</td>\n",
       "    </tr>\n",
       "    <tr>\n",
       "      <th>3</th>\n",
       "      <td>简装</td>\n",
       "      <td>常青花园十一小区</td>\n",
       "      <td>2室2厅</td>\n",
       "      <td>91.57平米</td>\n",
       "      <td>南</td>\n",
       "      <td>有电梯</td>\n",
       "      <td>2008</td>\n",
       "      <td>常青花园</td>\n",
       "      <td>低楼层</td>\n",
       "      <td>198.0</td>\n",
       "      <td>单价21623元/平米</td>\n",
       "    </tr>\n",
       "    <tr>\n",
       "      <th>4</th>\n",
       "      <td>精装</td>\n",
       "      <td>保利海上五月花一期</td>\n",
       "      <td>3室2厅</td>\n",
       "      <td>86.8平米</td>\n",
       "      <td>南</td>\n",
       "      <td>有电梯</td>\n",
       "      <td>none</td>\n",
       "      <td>庙山</td>\n",
       "      <td>高楼层</td>\n",
       "      <td>140.0</td>\n",
       "      <td>单价16130元/平米</td>\n",
       "    </tr>\n",
       "  </tbody>\n",
       "</table>\n",
       "</div>"
      ],
      "text/plain": [
       "  Renovation       Garden  Layout        Size Direction Elevator  Year  \\\n",
       "0        精装      星海虹城一期     4室2厅    144.33平米     东 南 西       有电梯  2006   \n",
       "1        其他      保利中央公馆     3室2厅    116.83平米       南 北       有电梯  2011   \n",
       "2        其他     金色雅园金源苑     2室2厅    102.74平米         南       无电梯  2002   \n",
       "3        简装    常青花园十一小区     2室2厅     91.57平米         南       有电梯  2008   \n",
       "4        精装   保利海上五月花一期     3室2厅      86.8平米         南       有电梯  none   \n",
       "\n",
       "  Distric Floor  Price house_unit_price  \n",
       "0    楚河汉街   低楼层  440.0      单价30486元/平米  \n",
       "1     新南湖   中楼层  265.0      单价22683元/平米  \n",
       "2     长港路   中楼层  175.0      单价17034元/平米  \n",
       "3    常青花园   低楼层  198.0      单价21623元/平米  \n",
       "4      庙山   高楼层  140.0      单价16130元/平米  "
      ]
     },
     "execution_count": 13,
     "metadata": {},
     "output_type": "execute_result"
    }
   ],
   "source": [
    "f = open('wuhanlianjia.csv','r')\n",
    "wuhanlianjia_df = pd.read_csv(f)\n",
    "wuhanlianjia_df.head()"
   ]
  },
  {
   "cell_type": "code",
   "execution_count": 14,
   "metadata": {},
   "outputs": [],
   "source": [
    "f.close()"
   ]
  },
  {
   "cell_type": "markdown",
   "metadata": {},
   "source": [
    "通过浏览csv文件发现一些数据特征存在误差，后续将进一步对数据进行清洗整理，并对整理好的数据来进行可视化展示，分析二手房房价与地区，年份，楼层等特征之间关系，以及武汉各区二手房售卖数量进行总结"
   ]
  },
  {
   "cell_type": "code",
   "execution_count": null,
   "metadata": {},
   "outputs": [],
   "source": []
  }
 ],
 "metadata": {
  "kernelspec": {
   "display_name": "Python 3",
   "language": "python",
   "name": "python3"
  },
  "language_info": {
   "codemirror_mode": {
    "name": "ipython",
    "version": 3
   },
   "file_extension": ".py",
   "mimetype": "text/x-python",
   "name": "python",
   "nbconvert_exporter": "python",
   "pygments_lexer": "ipython3",
   "version": "3.6.5"
  }
 },
 "nbformat": 4,
 "nbformat_minor": 2
}
